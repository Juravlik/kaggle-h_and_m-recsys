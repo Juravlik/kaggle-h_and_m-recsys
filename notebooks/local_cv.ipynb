{
 "cells": [
  {
   "cell_type": "code",
   "execution_count": 1,
   "metadata": {},
   "outputs": [],
   "source": [
    "import pandas as pd\n",
    "import numpy as np\n",
    "from datetime import datetime, timedelta\n",
    "import os\n",
    "from matplotlib import pyplot as plt\n",
    "import sys\n",
    "\n",
    "from lightgbm import LGBMRanker\n",
    "\n",
    "sys.path.append('/home/juravlik/PycharmProjects/kaggle_hnm_recsys/')\n",
    "\n",
    "from scripts.first_stage_models.LastPurchasesPopularity import LastPurchasesPopularity\n",
    "from scripts.utils import create_predictions_for_second_stage,\\\n",
    "prepare_dataset, create_labels_for_second_stage, combine_train_sets_and_labels\n",
    "\n",
    "from scripts.metrics.mapk import mapk\n",
    "from scripts.metrics.cross_validation import cross_validation\n",
    "\n",
    "import warnings\n",
    "warnings.filterwarnings('ignore')"
   ]
  },
  {
   "cell_type": "code",
   "execution_count": 2,
   "metadata": {},
   "outputs": [],
   "source": [
    "df_transactions = pd.read_parquet('../data/compressed_dataset/transactions.parquet')\n",
    "df_articles = pd.read_parquet('../data/compressed_dataset/articles.parquet')\n",
    "df_customers = pd.read_parquet('../data/compressed_dataset/customers.parquet')\n",
    "df_labels = pd.read_parquet('../data/ranker_train_labels/labels_2.parquet')\n",
    "\n",
    "article_id_int = pd.read_pickle('../data/compressed_dataset/article_id_int.pickle')\n",
    "int_article_id = pd.read_pickle('../data/compressed_dataset/int_article_id.pickle')\n",
    "\n",
    "customer_id_int = pd.read_pickle('../data/compressed_dataset/customer_id_int.pickle')\n",
    "int_customer_id = pd.read_pickle('../data/compressed_dataset/int_customer_id.pickle')"
   ]
  },
  {
   "cell_type": "code",
   "execution_count": null,
   "metadata": {},
   "outputs": [],
   "source": []
  },
  {
   "cell_type": "code",
   "execution_count": 14,
   "metadata": {},
   "outputs": [],
   "source": [
    "model = LastPuchasesPopularity()\n",
    "metric = mapk\n",
    "\n",
    "cv = cross_validation(\n",
    "    model=model,\n",
    "    metric=mapk,\n",
    "    num_folds=5,\n",
    "    path_to_transactions='../data/compressed_dataset/transactions.parquet',\n",
    "    path_to_labels_folder='../data/ranker_train_labels/'\n",
    ")"
   ]
  },
  {
   "cell_type": "code",
   "execution_count": 15,
   "metadata": {
    "scrolled": true
   },
   "outputs": [
    {
     "data": {
      "text/plain": [
       "[0.020587079663947662,\n",
       " 0.018511920339219463,\n",
       " 0.022589172450541987,\n",
       " 0.023377492405696445,\n",
       " 0.025274086552611697]"
      ]
     },
     "execution_count": 15,
     "metadata": {},
     "output_type": "execute_result"
    }
   ],
   "source": [
    "cv"
   ]
  },
  {
   "cell_type": "code",
   "execution_count": 16,
   "metadata": {},
   "outputs": [
    {
     "data": {
      "text/plain": [
       "0.02206795028240345"
      ]
     },
     "execution_count": 16,
     "metadata": {},
     "output_type": "execute_result"
    }
   ],
   "source": [
    "np.mean(cv)"
   ]
  }
 ],
 "metadata": {
  "kernelspec": {
   "display_name": "kaggle_hnm_recsys",
   "language": "python",
   "name": "kaggle_hnm_recsys"
  },
  "language_info": {
   "codemirror_mode": {
    "name": "ipython",
    "version": 3
   },
   "file_extension": ".py",
   "mimetype": "text/x-python",
   "name": "python",
   "nbconvert_exporter": "python",
   "pygments_lexer": "ipython3",
   "version": "3.8.13"
  }
 },
 "nbformat": 4,
 "nbformat_minor": 4
}