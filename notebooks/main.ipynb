{
 "cells": [
  {
   "cell_type": "code",
   "execution_count": 1,
   "metadata": {
    "scrolled": true
   },
   "outputs": [],
   "source": [
    "import pandas as pd\n",
    "import numpy as np\n",
    "from datetime import datetime, timedelta\n",
    "import os\n",
    "from matplotlib import pyplot as plt\n",
    "import sys\n",
    "\n",
    "from lightgbm import LGBMRanker\n",
    "\n",
    "sys.path.append('/home/juravlik/PycharmProjects/kaggle_hnm_recsys/')\n",
    "\n",
    "from scripts.first_stage_models.LastPurchasesPopularity import LastPurchasesPopularity\n",
    "from scripts.utils import create_predictions_for_second_stage,\\\n",
    "prepare_dataset, create_labels_for_second_stage, combine_train_sets_and_labels\n"
   ]
  },
  {
   "cell_type": "code",
   "execution_count": 2,
   "metadata": {},
   "outputs": [],
   "source": [
    "df_transactions = pd.read_parquet('../data/compressed_dataset/transactions.parquet')\n",
    "df_articles = pd.read_parquet('../data/compressed_dataset/articles.parquet')\n",
    "df_customers = pd.read_parquet('../data/compressed_dataset/customers.parquet')\n",
    "\n",
    "article_id_int = pd.read_pickle('../data/compressed_dataset/article_id_int.pickle')\n",
    "int_article_id = pd.read_pickle('../data/compressed_dataset/int_article_id.pickle')\n",
    "\n",
    "customer_id_int = pd.read_pickle('../data/compressed_dataset/customer_id_int.pickle')\n",
    "int_customer_id = pd.read_pickle('../data/compressed_dataset/int_customer_id.pickle')"
   ]
  },
  {
   "cell_type": "code",
   "execution_count": 3,
   "metadata": {},
   "outputs": [],
   "source": [
    "model = LastPuchasesPopularity()\n",
    "model.fit(df_transactions)"
   ]
  },
  {
   "cell_type": "code",
   "execution_count": 4,
   "metadata": {},
   "outputs": [],
   "source": [
    "df_predict, df_submission = model.predict(df_customers['customer_id'].tolist(),\n",
    "                                          return_submit=True,\n",
    "                                          int_article_id=int_article_id,\n",
    "                                          int_customer_id=int_customer_id\n",
    "                                         )"
   ]
  },
  {
   "cell_type": "code",
   "execution_count": 5,
   "metadata": {
    "scrolled": false
   },
   "outputs": [
    {
     "data": {
      "text/html": [
       "<div>\n",
       "<style scoped>\n",
       "    .dataframe tbody tr th:only-of-type {\n",
       "        vertical-align: middle;\n",
       "    }\n",
       "\n",
       "    .dataframe tbody tr th {\n",
       "        vertical-align: top;\n",
       "    }\n",
       "\n",
       "    .dataframe thead th {\n",
       "        text-align: right;\n",
       "    }\n",
       "</style>\n",
       "<table border=\"1\" class=\"dataframe\">\n",
       "  <thead>\n",
       "    <tr style=\"text-align: right;\">\n",
       "      <th></th>\n",
       "      <th>customer_id</th>\n",
       "      <th>article_id</th>\n",
       "      <th>score</th>\n",
       "    </tr>\n",
       "  </thead>\n",
       "  <tbody>\n",
       "    <tr>\n",
       "      <th>0</th>\n",
       "      <td>0</td>\n",
       "      <td>16023</td>\n",
       "      <td>1.000000</td>\n",
       "    </tr>\n",
       "    <tr>\n",
       "      <th>1</th>\n",
       "      <td>0</td>\n",
       "      <td>104553</td>\n",
       "      <td>0.500000</td>\n",
       "    </tr>\n",
       "    <tr>\n",
       "      <th>2</th>\n",
       "      <td>0</td>\n",
       "      <td>104554</td>\n",
       "      <td>0.333333</td>\n",
       "    </tr>\n",
       "    <tr>\n",
       "      <th>3</th>\n",
       "      <td>0</td>\n",
       "      <td>104527</td>\n",
       "      <td>0.250000</td>\n",
       "    </tr>\n",
       "    <tr>\n",
       "      <th>4</th>\n",
       "      <td>0</td>\n",
       "      <td>104072</td>\n",
       "      <td>0.200000</td>\n",
       "    </tr>\n",
       "    <tr>\n",
       "      <th>...</th>\n",
       "      <td>...</td>\n",
       "      <td>...</td>\n",
       "      <td>...</td>\n",
       "    </tr>\n",
       "    <tr>\n",
       "      <th>16463755</th>\n",
       "      <td>1371979</td>\n",
       "      <td>103796</td>\n",
       "      <td>0.125000</td>\n",
       "    </tr>\n",
       "    <tr>\n",
       "      <th>16463756</th>\n",
       "      <td>1371979</td>\n",
       "      <td>103797</td>\n",
       "      <td>0.111111</td>\n",
       "    </tr>\n",
       "    <tr>\n",
       "      <th>16463757</th>\n",
       "      <td>1371979</td>\n",
       "      <td>3091</td>\n",
       "      <td>0.100000</td>\n",
       "    </tr>\n",
       "    <tr>\n",
       "      <th>16463758</th>\n",
       "      <td>1371979</td>\n",
       "      <td>71107</td>\n",
       "      <td>0.090909</td>\n",
       "    </tr>\n",
       "    <tr>\n",
       "      <th>16463759</th>\n",
       "      <td>1371979</td>\n",
       "      <td>56694</td>\n",
       "      <td>0.083333</td>\n",
       "    </tr>\n",
       "  </tbody>\n",
       "</table>\n",
       "<p>16463760 rows × 3 columns</p>\n",
       "</div>"
      ],
      "text/plain": [
       "          customer_id  article_id     score\n",
       "0                   0       16023  1.000000\n",
       "1                   0      104553  0.500000\n",
       "2                   0      104554  0.333333\n",
       "3                   0      104527  0.250000\n",
       "4                   0      104072  0.200000\n",
       "...               ...         ...       ...\n",
       "16463755      1371979      103796  0.125000\n",
       "16463756      1371979      103797  0.111111\n",
       "16463757      1371979        3091  0.100000\n",
       "16463758      1371979       71107  0.090909\n",
       "16463759      1371979       56694  0.083333\n",
       "\n",
       "[16463760 rows x 3 columns]"
      ]
     },
     "execution_count": 5,
     "metadata": {},
     "output_type": "execute_result"
    }
   ],
   "source": [
    "df_predict"
   ]
  },
  {
   "cell_type": "code",
   "execution_count": 6,
   "metadata": {},
   "outputs": [
    {
     "data": {
      "text/html": [
       "<div>\n",
       "<style scoped>\n",
       "    .dataframe tbody tr th:only-of-type {\n",
       "        vertical-align: middle;\n",
       "    }\n",
       "\n",
       "    .dataframe tbody tr th {\n",
       "        vertical-align: top;\n",
       "    }\n",
       "\n",
       "    .dataframe thead th {\n",
       "        text-align: right;\n",
       "    }\n",
       "</style>\n",
       "<table border=\"1\" class=\"dataframe\">\n",
       "  <thead>\n",
       "    <tr style=\"text-align: right;\">\n",
       "      <th></th>\n",
       "      <th>customer_id</th>\n",
       "      <th>prediction</th>\n",
       "    </tr>\n",
       "  </thead>\n",
       "  <tbody>\n",
       "    <tr>\n",
       "      <th>0</th>\n",
       "      <td>00000dbacae5abe5e23885899a1fa44253a17956c6d1c3...</td>\n",
       "      <td>0568601043 0924243001 0924243002 0923758001 09...</td>\n",
       "    </tr>\n",
       "    <tr>\n",
       "      <th>1</th>\n",
       "      <td>0000423b00ade91418cceaf3b26c6af3dd342b51fd051e...</td>\n",
       "      <td>0924243001 0924243002 0923758001 0918522001 09...</td>\n",
       "    </tr>\n",
       "    <tr>\n",
       "      <th>2</th>\n",
       "      <td>000058a12d5b43e67d225668fa1f8d618c13dc232df0ca...</td>\n",
       "      <td>0794321007 0924243001 0924243002 0923758001 09...</td>\n",
       "    </tr>\n",
       "    <tr>\n",
       "      <th>3</th>\n",
       "      <td>00005ca1c9ed5f5146b52ac8639a40ca9d57aeff4d1bd2...</td>\n",
       "      <td>0924243001 0924243002 0923758001 0918522001 09...</td>\n",
       "    </tr>\n",
       "    <tr>\n",
       "      <th>4</th>\n",
       "      <td>00006413d8573cd20ed7128e53b7b13819fe5cfc2d801f...</td>\n",
       "      <td>0924243001 0924243002 0923758001 0918522001 09...</td>\n",
       "    </tr>\n",
       "    <tr>\n",
       "      <th>...</th>\n",
       "      <td>...</td>\n",
       "      <td>...</td>\n",
       "    </tr>\n",
       "    <tr>\n",
       "      <th>1371975</th>\n",
       "      <td>ffffbbf78b6eaac697a8a5dfbfd2bfa8113ee5b403e474...</td>\n",
       "      <td>0713997002 0720125039 0740922009 0791587007 08...</td>\n",
       "    </tr>\n",
       "    <tr>\n",
       "      <th>1371976</th>\n",
       "      <td>ffffcd5046a6143d29a04fb8c424ce494a76e5cdf4fab5...</td>\n",
       "      <td>0924243001 0924243002 0923758001 0918522001 09...</td>\n",
       "    </tr>\n",
       "    <tr>\n",
       "      <th>1371977</th>\n",
       "      <td>ffffcf35913a0bee60e8741cb2b4e78b8a98ee5ff2e6a1...</td>\n",
       "      <td>0689365050 0884081001 0794819001 0762846027 09...</td>\n",
       "    </tr>\n",
       "    <tr>\n",
       "      <th>1371978</th>\n",
       "      <td>ffffd7744cebcf3aca44ae7049d2a94b87074c3d4ffe38...</td>\n",
       "      <td>0924243001 0924243002 0923758001 0918522001 09...</td>\n",
       "    </tr>\n",
       "    <tr>\n",
       "      <th>1371979</th>\n",
       "      <td>ffffd9ac14e89946416d80e791d064701994755c3ab686...</td>\n",
       "      <td>0924243001 0924243002 0923758001 0918522001 09...</td>\n",
       "    </tr>\n",
       "  </tbody>\n",
       "</table>\n",
       "<p>1371980 rows × 2 columns</p>\n",
       "</div>"
      ],
      "text/plain": [
       "                                               customer_id  \\\n",
       "0        00000dbacae5abe5e23885899a1fa44253a17956c6d1c3...   \n",
       "1        0000423b00ade91418cceaf3b26c6af3dd342b51fd051e...   \n",
       "2        000058a12d5b43e67d225668fa1f8d618c13dc232df0ca...   \n",
       "3        00005ca1c9ed5f5146b52ac8639a40ca9d57aeff4d1bd2...   \n",
       "4        00006413d8573cd20ed7128e53b7b13819fe5cfc2d801f...   \n",
       "...                                                    ...   \n",
       "1371975  ffffbbf78b6eaac697a8a5dfbfd2bfa8113ee5b403e474...   \n",
       "1371976  ffffcd5046a6143d29a04fb8c424ce494a76e5cdf4fab5...   \n",
       "1371977  ffffcf35913a0bee60e8741cb2b4e78b8a98ee5ff2e6a1...   \n",
       "1371978  ffffd7744cebcf3aca44ae7049d2a94b87074c3d4ffe38...   \n",
       "1371979  ffffd9ac14e89946416d80e791d064701994755c3ab686...   \n",
       "\n",
       "                                                prediction  \n",
       "0        0568601043 0924243001 0924243002 0923758001 09...  \n",
       "1        0924243001 0924243002 0923758001 0918522001 09...  \n",
       "2        0794321007 0924243001 0924243002 0923758001 09...  \n",
       "3        0924243001 0924243002 0923758001 0918522001 09...  \n",
       "4        0924243001 0924243002 0923758001 0918522001 09...  \n",
       "...                                                    ...  \n",
       "1371975  0713997002 0720125039 0740922009 0791587007 08...  \n",
       "1371976  0924243001 0924243002 0923758001 0918522001 09...  \n",
       "1371977  0689365050 0884081001 0794819001 0762846027 09...  \n",
       "1371978  0924243001 0924243002 0923758001 0918522001 09...  \n",
       "1371979  0924243001 0924243002 0923758001 0918522001 09...  \n",
       "\n",
       "[1371980 rows x 2 columns]"
      ]
     },
     "execution_count": 6,
     "metadata": {},
     "output_type": "execute_result"
    }
   ],
   "source": [
    "df_submission"
   ]
  },
  {
   "cell_type": "code",
   "execution_count": 7,
   "metadata": {},
   "outputs": [],
   "source": [
    "df_predict = model.predict(df_customers['customer_id'].tolist(),\n",
    "                                          return_submit=False,\n",
    "                                          int_article_id=int_article_id,\n",
    "                                          int_customer_id=int_customer_id\n",
    "                                         )"
   ]
  },
  {
   "cell_type": "markdown",
   "metadata": {},
   "source": [
    "## Create training set for 2nd stage"
   ]
  },
  {
   "cell_type": "code",
   "execution_count": 3,
   "metadata": {},
   "outputs": [],
   "source": [
    "model = LastPuchasesPopularity()"
   ]
  },
  {
   "cell_type": "code",
   "execution_count": 4,
   "metadata": {},
   "outputs": [],
   "source": [
    "create_predictions_for_second_stage(\n",
    "        model=model,\n",
    "        model_name='LastPuchasesPopularity',\n",
    "        transactions=df_transactions,\n",
    "        all_customers=df_customers['customer_id'].unique(),\n",
    "        path_to_destination_save='/home/juravlik/PycharmProjects/kaggle_hnm_recsys/data/ranker_train_set/LastPuchasesPopularity',\n",
    "        int_article_id=int_article_id,\n",
    "        int_customer_id=int_customer_id,\n",
    "        num_train_weeks= 20\n",
    ")"
   ]
  },
  {
   "cell_type": "markdown",
   "metadata": {},
   "source": [
    "## Create labels for 2nd stage"
   ]
  },
  {
   "cell_type": "code",
   "execution_count": 3,
   "metadata": {},
   "outputs": [],
   "source": [
    "create_labels_for_second_stage(\n",
    "        transactions=df_transactions,\n",
    "        path_to_destination_save='/home/juravlik/PycharmProjects/kaggle_hnm_recsys/data/ranker_train_labels',\n",
    "        num_train_weeks=20\n",
    ")"
   ]
  },
  {
   "cell_type": "markdown",
   "metadata": {},
   "source": [
    "## Create train set with labels"
   ]
  },
  {
   "cell_type": "code",
   "execution_count": 4,
   "metadata": {},
   "outputs": [],
   "source": [
    "train_w_labels = combine_train_sets_and_labels(\n",
    "    path_to_train_set='/home/juravlik/PycharmProjects/kaggle_hnm_recsys/data/ranker_train_set/',\n",
    "    path_to_train_labels='/home/juravlik/PycharmProjects/kaggle_hnm_recsys/data/ranker_train_labels',\n",
    "    model_names=['LastPuchasesPopularity'],\n",
    "    num_train_weeks=20,\n",
    "    path_to_save_result='/home/juravlik/PycharmProjects/kaggle_hnm_recsys/data/train_set_and_labels/1_exp.parquet'\n",
    ")"
   ]
  },
  {
   "cell_type": "markdown",
   "metadata": {},
   "source": [
    "## Train Ranker model"
   ]
  },
  {
   "cell_type": "code",
   "execution_count": 79,
   "metadata": {},
   "outputs": [],
   "source": [
    "train_w_labels = pd.read_parquet('/home/juravlik/PycharmProjects/kaggle_hnm_recsys/data/train_set_and_labels/1_exp.parquet')\n",
    "train_w_labels.loc[train_w_labels.label > 0, 'label'] = 13 - train_w_labels['label'] # 1\n",
    "\n",
    "train_w_labels = train_w_labels.sort_values(['weeks_before_sub', 'customer_id'])"
   ]
  },
  {
   "cell_type": "code",
   "execution_count": 80,
   "metadata": {},
   "outputs": [],
   "source": [
    "last_week = pd.read_parquet('/home/juravlik/PycharmProjects/kaggle_hnm_recsys/data/ranker_train_set/LastPuchasesPopularity/LastPuchasesPopularity_0.parquet')\n",
    "\n",
    "last_week = last_week.drop_duplicates(subset=['customer_id', 'article_id'])\n",
    "\n",
    "last_week = last_week.sort_values(['weeks_before_sub', 'customer_id'])"
   ]
  },
  {
   "cell_type": "code",
   "execution_count": null,
   "metadata": {},
   "outputs": [],
   "source": []
  },
  {
   "cell_type": "code",
   "execution_count": 81,
   "metadata": {},
   "outputs": [],
   "source": [
    "ranker = LGBMRanker(\n",
    "    objective=\"lambdarank\",\n",
    "    metric=\"ndcg\",\n",
    "    eval_at=12,\n",
    "    boosting_type=\"dart\",\n",
    "    max_depth=7,\n",
    "    n_estimators=100,\n",
    "    importance_type='gain',\n",
    "    verbose=-1\n",
    ")"
   ]
  },
  {
   "cell_type": "code",
   "execution_count": null,
   "metadata": {},
   "outputs": [],
   "source": []
  },
  {
   "cell_type": "code",
   "execution_count": 82,
   "metadata": {},
   "outputs": [
    {
     "name": "stderr",
     "output_type": "stream",
     "text": [
      "/home/juravlik/anaconda3/envs/kaggle_hnm_recsys/lib/python3.8/site-packages/lightgbm/sklearn.py:621: UserWarning: Found 'eval_at' in params. Will use it instead of 'eval_at' argument\n",
      "  _log_warning(f\"Found '{alias}' in params. Will use it instead of 'eval_at' argument\")\n"
     ]
    }
   ],
   "source": [
    "ranker = ranker.fit(\n",
    "    X=train_w_labels[['score_LastPuchasesPopularity']],\n",
    "    y=train_w_labels[['label']],\n",
    "    group=train_w_labels.groupby(['weeks_before_sub', 'customer_id'])['article_id'].count().values,\n",
    ")"
   ]
  },
  {
   "cell_type": "code",
   "execution_count": 83,
   "metadata": {},
   "outputs": [],
   "source": [
    "predict = ranker.predict(\n",
    "    last_week[['score']]\n",
    ")"
   ]
  },
  {
   "cell_type": "code",
   "execution_count": 84,
   "metadata": {},
   "outputs": [],
   "source": [
    "last_week['predict'] = predict"
   ]
  },
  {
   "cell_type": "code",
   "execution_count": 85,
   "metadata": {},
   "outputs": [],
   "source": [
    "last_week = last_week.sort_values(['customer_id', 'predict'], ascending=False).groupby('customer_id').head(12)"
   ]
  },
  {
   "cell_type": "code",
   "execution_count": null,
   "metadata": {},
   "outputs": [],
   "source": []
  },
  {
   "cell_type": "code",
   "execution_count": 89,
   "metadata": {},
   "outputs": [],
   "source": [
    "last_week['article_id'] = last_week['article_id'].apply(lambda x: int_article_id[x])\n",
    "last_week['customer_id'] = last_week['customer_id'].apply(lambda x: int_customer_id[x])\n",
    "\n",
    "last_week['article_id'] = last_week['article_id'].astype(str)\n",
    "\n",
    "last_week['prediction'] = last_week.groupby(['customer_id'])['article_id'].transform(lambda x: ' '.join(x))\n",
    "last_week.drop_duplicates(subset=['customer_id'], inplace=True)\n",
    "last_week.reset_index(inplace=True, drop=True)\n",
    "last_week['prediction'] = last_week['prediction'].str[:131]\n",
    "\n",
    "last_week = last_week[['customer_id', 'prediction']]"
   ]
  },
  {
   "cell_type": "code",
   "execution_count": 90,
   "metadata": {},
   "outputs": [],
   "source": [
    "last_week.to_csv('sub.csv', index=False)"
   ]
  },
  {
   "cell_type": "code",
   "execution_count": null,
   "metadata": {},
   "outputs": [],
   "source": []
  }
 ],
 "metadata": {
  "kernelspec": {
   "display_name": "kaggle_hnm_recsys",
   "language": "python",
   "name": "kaggle_hnm_recsys"
  },
  "language_info": {
   "codemirror_mode": {
    "name": "ipython",
    "version": 3
   },
   "file_extension": ".py",
   "mimetype": "text/x-python",
   "name": "python",
   "nbconvert_exporter": "python",
   "pygments_lexer": "ipython3",
   "version": "3.8.13"
  }
 },
 "nbformat": 4,
 "nbformat_minor": 4
}