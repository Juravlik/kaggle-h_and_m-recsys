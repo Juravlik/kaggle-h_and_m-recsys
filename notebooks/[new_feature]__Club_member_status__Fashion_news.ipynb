{
 "cells": [
  {
   "cell_type": "code",
   "execution_count": 12,
   "metadata": {},
   "outputs": [],
   "source": [
    "import pandas as pd\n",
    "import numpy as np\n",
    "from datetime import datetime, timedelta\n",
    "import os\n",
    "from matplotlib import pyplot as plt\n",
    "import sys\n",
    "import time\n",
    "\n",
    "sys.path.append('/home/juravlik/PycharmProjects/kaggle_hnm_recsys/')\n",
    "\n",
    "from scripts.utils import create_one_hot_encoding\n",
    "pd.set_option('display.max_columns', 500)\n",
    "\n",
    "import warnings\n",
    "warnings.filterwarnings(\"ignore\")"
   ]
  },
  {
   "cell_type": "code",
   "execution_count": 2,
   "metadata": {},
   "outputs": [],
   "source": [
    "df_transactions = pd.read_parquet('../../data/compressed_dataset/transactions.parquet')\n",
    "df_articles = pd.read_parquet('../../data/compressed_dataset/articles.parquet')\n",
    "df_customers = pd.read_parquet('../../data/compressed_dataset/customers.parquet')\n",
    "\n",
    "article_id_int = pd.read_pickle('../../data/compressed_dataset/article_id_int.pickle')\n",
    "int_article_id = pd.read_pickle('../../data/compressed_dataset/int_article_id.pickle')\n",
    "\n",
    "customer_id_int = pd.read_pickle('../../data/compressed_dataset/customer_id_int.pickle')\n",
    "int_customer_id = pd.read_pickle('../../data/compressed_dataset/int_customer_id.pickle')"
   ]
  },
  {
   "cell_type": "code",
   "execution_count": null,
   "metadata": {},
   "outputs": [],
   "source": []
  },
  {
   "cell_type": "code",
   "execution_count": 11,
   "metadata": {},
   "outputs": [],
   "source": [
    "df_customers.loc[(df_customers['fashion_news_frequency'] == 'NONE') | \n",
    "                 (df_customers['fashion_news_frequency'] == 'None'), 'fashion_news_frequency'] = None"
   ]
  },
  {
   "cell_type": "code",
   "execution_count": 13,
   "metadata": {},
   "outputs": [],
   "source": [
    "df_customers = create_one_hot_encoding(df_customers, ['club_member_status'])\n",
    "df_customers = create_one_hot_encoding(df_customers, ['fashion_news_frequency'])"
   ]
  },
  {
   "cell_type": "code",
   "execution_count": null,
   "metadata": {},
   "outputs": [],
   "source": []
  },
  {
   "cell_type": "code",
   "execution_count": 15,
   "metadata": {},
   "outputs": [],
   "source": [
    "df_customers[['customer_id',\n",
    "              'club_member_status_ACTIVE',\n",
    "              'club_member_status_LEFT CLUB',\n",
    "              'club_member_status_PRE-CREATE',\n",
    "              'fashion_news_frequency_Monthly',\n",
    "              'fashion_news_frequency_Regularly'\n",
    "             ]].to_parquet('/home/juravlik/PycharmProjects/kaggle_hnm_recsys/data/features/customers/static/member_status__fn.parquet',\n",
    "                          index=False)"
   ]
  }
 ],
 "metadata": {
  "kernelspec": {
   "display_name": "kaggle_hnm_recsys",
   "language": "python",
   "name": "kaggle_hnm_recsys"
  },
  "language_info": {
   "codemirror_mode": {
    "name": "ipython",
    "version": 3
   },
   "file_extension": ".py",
   "mimetype": "text/x-python",
   "name": "python",
   "nbconvert_exporter": "python",
   "pygments_lexer": "ipython3",
   "version": "3.8.13"
  }
 },
 "nbformat": 4,
 "nbformat_minor": 4
}
