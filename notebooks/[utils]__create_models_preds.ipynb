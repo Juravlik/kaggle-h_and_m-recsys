{
 "cells": [
  {
   "cell_type": "code",
   "execution_count": 1,
   "metadata": {},
   "outputs": [],
   "source": [
    "import pandas as pd\n",
    "import numpy as np\n",
    "from datetime import datetime, timedelta\n",
    "import os\n",
    "from matplotlib import pyplot as plt\n",
    "import sys\n",
    "import time\n",
    "from tqdm.notebook import tqdm\n",
    "\n",
    "sys.path.append('/home/juravlik/PycharmProjects/kaggle_hnm_recsys/')\n",
    "\n",
    "from scripts.utils import create_one_hot_encoding\n",
    "\n",
    "pd.set_option('display.max_columns', 500)\n",
    "\n",
    "import warnings\n",
    "warnings.filterwarnings(\"ignore\")"
   ]
  },
  {
   "cell_type": "code",
   "execution_count": 2,
   "metadata": {},
   "outputs": [
    {
     "name": "stdout",
     "output_type": "stream",
     "text": [
      "19\n",
      "18\n",
      "17\n",
      "16\n",
      "15\n",
      "14\n",
      "13\n",
      "12\n",
      "11\n",
      "10\n",
      "9\n",
      "8\n",
      "7\n",
      "6\n",
      "5\n",
      "4\n",
      "3\n",
      "2\n",
      "1\n"
     ]
    }
   ],
   "source": [
    "folder_path = '/home/juravlik/PycharmProjects/kaggle_hnm_recsys/data/ranker_train_set/'\n",
    "\n",
    "model_names_pattern = [\n",
    "    'ARulesRecommender',\n",
    "    'BiVAERecommender',\n",
    "    'GruRecommender',\n",
    "    'ItemsPurchasedTogetherRecommender',\n",
    "    'KaggleCustomerAgeRecommender',\n",
    "    'KaggleExponentialDecayRecommender',\n",
    "    'KaggleTrendingRecommender',\n",
    "    'KMeansRecommender',\n",
    "    'LastPurchasesImageSimilarity',\n",
    "    'LastPurchasesPopularity',\n",
    "    'PopularByGroupsRecommender',\n",
    "    'SVDRecommender',\n",
    "    'LightFMRecommender',\n",
    "]\n",
    "\n",
    "num_weeks = 20\n",
    " \n",
    "\n",
    "for i in range(num_weeks-1, 0, -1):\n",
    "    print(i)\n",
    "    for model_i, model_name in enumerate(model_names_pattern):\n",
    "\n",
    "        model_pred = pd.read_parquet(os.path.join(folder_path, model_name, '{}_{}.parquet'.format(model_name, i)),\n",
    "#                                     dtype={'article_id': int, 'customer_id': int, 'weeks_before_sub': int},\n",
    "                                    columns=['article_id', 'customer_id', 'weeks_before_sub'])       \n",
    "        \n",
    "        if model_i == 0:\n",
    "            df_models_preds = model_pred\n",
    "        else:\n",
    "            df_models_preds = pd.concat([df_models_preds, model_pred], ignore_index=True)\n",
    "        \n",
    "    df_models_preds['article_id'] = df_models_preds['article_id'].astype(int)\n",
    "    df_models_preds['customer_id'] = df_models_preds['customer_id'].astype(int)\n",
    "    \n",
    "    df_models_preds = df_models_preds.groupby(['customer_id', 'article_id', 'weeks_before_sub']).first().reset_index()\n",
    "    df_models_preds[['customer_id', 'article_id', 'weeks_before_sub']].to_parquet('/home/juravlik/PycharmProjects/kaggle_hnm_recsys/data/ranker_train_set_utils/models_preds_{}.parquet'.format(i),\n",
    "                                                                             index=False)\n",
    "    del df_models_preds\n",
    "    del model_pred"
   ]
  },
  {
   "cell_type": "code",
   "execution_count": 2,
   "metadata": {},
   "outputs": [
    {
     "name": "stdout",
     "output_type": "stream",
     "text": [
      "0\n"
     ]
    }
   ],
   "source": [
    "folder_path = '/home/juravlik/PycharmProjects/kaggle_hnm_recsys/data/ranker_train_set/'\n",
    "\n",
    "model_names_pattern = [\n",
    "    'ARulesRecommender',\n",
    "    'BiVAERecommender',\n",
    "    'GruRecommender',\n",
    "    'ItemsPurchasedTogetherRecommender',\n",
    "    'KaggleCustomerAgeRecommender',\n",
    "    'KaggleExponentialDecayRecommender',\n",
    "    'KaggleTrendingRecommender',\n",
    "    'KMeansRecommender',\n",
    "    'LastPurchasesImageSimilarity',\n",
    "    'LastPurchasesPopularity',\n",
    "    'PopularByGroupsRecommender',\n",
    "    'SVDRecommender',\n",
    "    'LightFMRecommender'\n",
    "]\n",
    "\n",
    "num_weeks = 1\n",
    " \n",
    "\n",
    "for i in range(num_weeks-1, -1, -1):\n",
    "    print(i)\n",
    "    for model_i, model_name in enumerate(model_names_pattern):\n",
    "\n",
    "        model_pred = pd.read_parquet(os.path.join(folder_path, model_name, '{}_{}.parquet'.format(model_name, i)))       \n",
    "        \n",
    "        if model_i == 0:\n",
    "            df_models_preds = model_pred\n",
    "        else:\n",
    "            df_models_preds = pd.concat([df_models_preds, model_pred], ignore_index=True)\n",
    "        \n",
    "    \n",
    "    df_models_preds['article_id'] = df_models_preds['article_id'].astype(int)\n",
    "    df_models_preds['customer_id'] = df_models_preds['customer_id'].astype(int)\n",
    "    \n",
    "    df_models_preds = df_models_preds.groupby(['customer_id', 'article_id']).first().reset_index()\n",
    "    df_models_preds[['customer_id', 'article_id', 'weeks_before_sub']].to_parquet('/home/juravlik/PycharmProjects/kaggle_hnm_recsys/data/ranker_train_set_utils/models_preds_{}.parquet'.format(i),\n",
    "                                                                             index=False)\n",
    "    del model_pred\n",
    "    del df_models_preds"
   ]
  },
  {
   "cell_type": "code",
   "execution_count": null,
   "metadata": {},
   "outputs": [],
   "source": []
  }
 ],
 "metadata": {
  "kernelspec": {
   "display_name": "kaggle_hnm_recsys",
   "language": "python",
   "name": "kaggle_hnm_recsys"
  },
  "language_info": {
   "codemirror_mode": {
    "name": "ipython",
    "version": 3
   },
   "file_extension": ".py",
   "mimetype": "text/x-python",
   "name": "python",
   "nbconvert_exporter": "python",
   "pygments_lexer": "ipython3",
   "version": "3.8.13"
  }
 },
 "nbformat": 4,
 "nbformat_minor": 4
}
