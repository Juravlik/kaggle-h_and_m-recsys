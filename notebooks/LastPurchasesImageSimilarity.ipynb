{
 "cells": [
  {
   "cell_type": "code",
   "execution_count": 1,
   "metadata": {
    "scrolled": true
   },
   "outputs": [
    {
     "name": "stderr",
     "output_type": "stream",
     "text": [
      "/home/juravlik/anaconda3/envs/kaggle_hnm_recsys/lib/python3.8/site-packages/tqdm/auto.py:22: TqdmWarning: IProgress not found. Please update jupyter and ipywidgets. See https://ipywidgets.readthedocs.io/en/stable/user_install.html\n",
      "  from .autonotebook import tqdm as notebook_tqdm\n"
     ]
    }
   ],
   "source": [
    "import pandas as pd\n",
    "import numpy as np\n",
    "from datetime import datetime, timedelta\n",
    "import os\n",
    "from matplotlib import pyplot as plt\n",
    "import sys\n",
    "import torch\n",
    "from lightgbm import LGBMRanker\n",
    "import time\n",
    "\n",
    "sys.path.append('/home/juravlik/PycharmProjects/kaggle_hnm_recsys/')\n",
    "\n",
    "from scripts.first_stage_models.LastPurchasesPopularity import LastPurchasesPopularity\n",
    "from scripts.utils import create_predictions_for_second_stage,\\\n",
    "prepare_dataset, create_labels_for_second_stage, combine_train_sets_and_labels\n",
    "\n",
    "from scripts.images_scripts.similarity_search import SimilaritySearch\n",
    "from scripts.images_scripts.index import FlatFaissIndex\n",
    "from scripts.first_stage_models.LastPurchasesImageSimilarity import LastPurchasesImageSimilarity\n",
    "\n",
    "\n",
    "pd.set_option('display.max_columns', 500)"
   ]
  },
  {
   "cell_type": "code",
   "execution_count": 2,
   "metadata": {},
   "outputs": [],
   "source": [
    "DEVICE = torch.device('cpu')\n",
    "\n",
    "PATH_TO_ARTICLES_INDEX = '/home/juravlik/PycharmProjects/kaggle_hnm_recsys/data/compressed_dataset/index/articles_index.parquet'\n",
    "PATH_TO_INDEX = '/home/juravlik/PycharmProjects/kaggle_hnm_recsys/data/compressed_dataset/index/faiss.index'\n",
    "PATH_TO_EMBEDDINGS = '/home/juravlik/PycharmProjects/kaggle_hnm_recsys/data/compressed_dataset/index/embeddings.pickle'\n",
    "PATH_TO_ARTICLE_ID_INT = '../data/compressed_dataset/article_id_int.pickle'"
   ]
  },
  {
   "cell_type": "code",
   "execution_count": 3,
   "metadata": {},
   "outputs": [],
   "source": [
    "df_transactions = pd.read_parquet('../data/compressed_dataset/transactions.parquet')\n",
    "df_articles = pd.read_parquet('../data/compressed_dataset/articles.parquet')\n",
    "df_customers = pd.read_parquet('../data/compressed_dataset/customers.parquet')\n",
    "\n",
    "article_id_int = pd.read_pickle('../data/compressed_dataset/article_id_int.pickle')\n",
    "int_article_id = pd.read_pickle('../data/compressed_dataset/int_article_id.pickle')\n",
    "\n",
    "customer_id_int = pd.read_pickle('../data/compressed_dataset/customer_id_int.pickle')\n",
    "int_customer_id = pd.read_pickle('../data/compressed_dataset/int_customer_id.pickle')"
   ]
  },
  {
   "cell_type": "code",
   "execution_count": 4,
   "metadata": {},
   "outputs": [],
   "source": [
    "index = FlatFaissIndex(dimension=384,\n",
    "                       device=DEVICE)\n",
    "index.load_ranking_model(PATH_TO_INDEX)"
   ]
  },
  {
   "cell_type": "code",
   "execution_count": null,
   "metadata": {},
   "outputs": [],
   "source": []
  },
  {
   "cell_type": "code",
   "execution_count": 5,
   "metadata": {},
   "outputs": [],
   "source": [
    "Searcher = SimilaritySearch(\n",
    "    index=index,\n",
    "    parquet_file_with_articles_index=PATH_TO_ARTICLES_INDEX,\n",
    "    pickle_file_with_embeddings=PATH_TO_EMBEDDINGS,\n",
    "    path_article_id_int=PATH_TO_ARTICLE_ID_INT\n",
    ")"
   ]
  },
  {
   "cell_type": "code",
   "execution_count": null,
   "metadata": {},
   "outputs": [],
   "source": []
  },
  {
   "cell_type": "code",
   "execution_count": 6,
   "metadata": {
    "scrolled": true
   },
   "outputs": [
    {
     "name": "stdout",
     "output_type": "stream",
     "text": [
      "CPU times: user 34.7 ms, sys: 423 µs, total: 35.1 ms\n",
      "Wall time: 33.3 ms\n"
     ]
    },
    {
     "data": {
      "text/plain": [
       "(array([0.9999997 , 0.96716285, 0.9669125 , 0.9665159 ], dtype=float32),\n",
       " array([ 1000, 26087, 43345, 38025]))"
      ]
     },
     "execution_count": 6,
     "metadata": {},
     "output_type": "execute_result"
    }
   ],
   "source": [
    "%%time\n",
    "\n",
    "Searcher.search_similar(\n",
    "    target_int_article_id=1000,\n",
    "    n_images=4\n",
    ")"
   ]
  },
  {
   "cell_type": "code",
   "execution_count": null,
   "metadata": {},
   "outputs": [],
   "source": []
  },
  {
   "cell_type": "code",
   "execution_count": 7,
   "metadata": {},
   "outputs": [],
   "source": [
    "model = LastPurchasesImageSimilarity(\n",
    "    searcher=Searcher,\n",
    "    int_article_id=int_article_id,\n",
    "    int_customer_id=int_customer_id\n",
    "\n",
    ")\n",
    "model.fit(df_transactions)"
   ]
  },
  {
   "cell_type": "code",
   "execution_count": 8,
   "metadata": {},
   "outputs": [],
   "source": [
    "df_predict, df_submit = model.predict(df_customers['customer_id'].tolist()[:100],\n",
    "                                          return_submit=True\n",
    "                                         )"
   ]
  },
  {
   "cell_type": "code",
   "execution_count": 9,
   "metadata": {},
   "outputs": [
    {
     "data": {
      "text/html": [
       "<div>\n",
       "<style scoped>\n",
       "    .dataframe tbody tr th:only-of-type {\n",
       "        vertical-align: middle;\n",
       "    }\n",
       "\n",
       "    .dataframe tbody tr th {\n",
       "        vertical-align: top;\n",
       "    }\n",
       "\n",
       "    .dataframe thead th {\n",
       "        text-align: right;\n",
       "    }\n",
       "</style>\n",
       "<table border=\"1\" class=\"dataframe\">\n",
       "  <thead>\n",
       "    <tr style=\"text-align: right;\">\n",
       "      <th></th>\n",
       "      <th>customer_id</th>\n",
       "      <th>prediction</th>\n",
       "    </tr>\n",
       "  </thead>\n",
       "  <tbody>\n",
       "    <tr>\n",
       "      <th>0</th>\n",
       "      <td>0003e867a930d0d6842f923d6ba7c9b77aba33fe2a0fbf...</td>\n",
       "      <td>0837741002 0889722001 0823242001 0875736004 09...</td>\n",
       "    </tr>\n",
       "    <tr>\n",
       "      <th>1</th>\n",
       "      <td>00039306476aaf41a07fed942884f16b30abfa83a2a8be...</td>\n",
       "      <td>0855793001 0792301002 0881916001 0771602002 06...</td>\n",
       "    </tr>\n",
       "    <tr>\n",
       "      <th>2</th>\n",
       "      <td>00040239317e877c77ac6e79df42eb2633ad38fcac09fc...</td>\n",
       "      <td>0604295001 0763706005 0881570001 0875272002 08...</td>\n",
       "    </tr>\n",
       "    <tr>\n",
       "      <th>3</th>\n",
       "      <td>000058a12d5b43e67d225668fa1f8d618c13dc232df0ca...</td>\n",
       "      <td>0794321011 0730687001 0794321001 0763785001 09...</td>\n",
       "    </tr>\n",
       "    <tr>\n",
       "      <th>4</th>\n",
       "      <td>0001d44dbe7f6c4b35200abdb052c77a87596fe1bdcc37...</td>\n",
       "      <td>0865912001 0760735001 0721632001 0928040002 08...</td>\n",
       "    </tr>\n",
       "    <tr>\n",
       "      <th>...</th>\n",
       "      <td>...</td>\n",
       "      <td>...</td>\n",
       "    </tr>\n",
       "    <tr>\n",
       "      <th>95</th>\n",
       "      <td>00008469a21b50b3d147c97135e25b4201a8c58997f787...</td>\n",
       "      <td>0661162002 0680441019 0867948004 0661162004 05...</td>\n",
       "    </tr>\n",
       "    <tr>\n",
       "      <th>96</th>\n",
       "      <td>000097d91384a0c14893c09ed047a963c4fc6a5c021044...</td>\n",
       "      <td>0741762005 0884901001 0741762001 0812854003 07...</td>\n",
       "    </tr>\n",
       "    <tr>\n",
       "      <th>97</th>\n",
       "      <td>000383021a8cf9a542b9c855b42f99aa76374873661e83...</td>\n",
       "      <td>0643140001 0815650001 0710760001 0516000073 05...</td>\n",
       "    </tr>\n",
       "    <tr>\n",
       "      <th>98</th>\n",
       "      <td>0004518be81f6f0dd216dc5699016bc159ebb9dbd62a76...</td>\n",
       "      <td>0817086002 0889456001 0501722004 0616733003 06...</td>\n",
       "    </tr>\n",
       "    <tr>\n",
       "      <th>99</th>\n",
       "      <td>0002b9088196900626214bcdc6d5f3d85f38fb462a4806...</td>\n",
       "      <td>0649445001 0622968001 0671695001</td>\n",
       "    </tr>\n",
       "  </tbody>\n",
       "</table>\n",
       "<p>100 rows × 2 columns</p>\n",
       "</div>"
      ],
      "text/plain": [
       "                                          customer_id  \\\n",
       "0   0003e867a930d0d6842f923d6ba7c9b77aba33fe2a0fbf...   \n",
       "1   00039306476aaf41a07fed942884f16b30abfa83a2a8be...   \n",
       "2   00040239317e877c77ac6e79df42eb2633ad38fcac09fc...   \n",
       "3   000058a12d5b43e67d225668fa1f8d618c13dc232df0ca...   \n",
       "4   0001d44dbe7f6c4b35200abdb052c77a87596fe1bdcc37...   \n",
       "..                                                ...   \n",
       "95  00008469a21b50b3d147c97135e25b4201a8c58997f787...   \n",
       "96  000097d91384a0c14893c09ed047a963c4fc6a5c021044...   \n",
       "97  000383021a8cf9a542b9c855b42f99aa76374873661e83...   \n",
       "98  0004518be81f6f0dd216dc5699016bc159ebb9dbd62a76...   \n",
       "99  0002b9088196900626214bcdc6d5f3d85f38fb462a4806...   \n",
       "\n",
       "                                           prediction  \n",
       "0   0837741002 0889722001 0823242001 0875736004 09...  \n",
       "1   0855793001 0792301002 0881916001 0771602002 06...  \n",
       "2   0604295001 0763706005 0881570001 0875272002 08...  \n",
       "3   0794321011 0730687001 0794321001 0763785001 09...  \n",
       "4   0865912001 0760735001 0721632001 0928040002 08...  \n",
       "..                                                ...  \n",
       "95  0661162002 0680441019 0867948004 0661162004 05...  \n",
       "96  0741762005 0884901001 0741762001 0812854003 07...  \n",
       "97  0643140001 0815650001 0710760001 0516000073 05...  \n",
       "98  0817086002 0889456001 0501722004 0616733003 06...  \n",
       "99                   0649445001 0622968001 0671695001  \n",
       "\n",
       "[100 rows x 2 columns]"
      ]
     },
     "execution_count": 9,
     "metadata": {},
     "output_type": "execute_result"
    }
   ],
   "source": [
    "df_submit"
   ]
  },
  {
   "cell_type": "code",
   "execution_count": 13,
   "metadata": {},
   "outputs": [
    {
     "data": {
      "text/html": [
       "<div>\n",
       "<style scoped>\n",
       "    .dataframe tbody tr th:only-of-type {\n",
       "        vertical-align: middle;\n",
       "    }\n",
       "\n",
       "    .dataframe tbody tr th {\n",
       "        vertical-align: top;\n",
       "    }\n",
       "\n",
       "    .dataframe thead th {\n",
       "        text-align: right;\n",
       "    }\n",
       "</style>\n",
       "<table border=\"1\" class=\"dataframe\">\n",
       "  <thead>\n",
       "    <tr style=\"text-align: right;\">\n",
       "      <th></th>\n",
       "      <th>customer_id</th>\n",
       "      <th>article_id</th>\n",
       "      <th>score</th>\n",
       "    </tr>\n",
       "  </thead>\n",
       "  <tbody>\n",
       "    <tr>\n",
       "      <th>0</th>\n",
       "      <td>86</td>\n",
       "      <td>89351</td>\n",
       "      <td>0.939401</td>\n",
       "    </tr>\n",
       "    <tr>\n",
       "      <th>1</th>\n",
       "      <td>86</td>\n",
       "      <td>100352</td>\n",
       "      <td>0.931560</td>\n",
       "    </tr>\n",
       "    <tr>\n",
       "      <th>2</th>\n",
       "      <td>86</td>\n",
       "      <td>86274</td>\n",
       "      <td>0.924446</td>\n",
       "    </tr>\n",
       "    <tr>\n",
       "      <th>3</th>\n",
       "      <td>80</td>\n",
       "      <td>92916</td>\n",
       "      <td>0.988128</td>\n",
       "    </tr>\n",
       "    <tr>\n",
       "      <th>4</th>\n",
       "      <td>80</td>\n",
       "      <td>78075</td>\n",
       "      <td>0.985729</td>\n",
       "    </tr>\n",
       "    <tr>\n",
       "      <th>...</th>\n",
       "      <td>...</td>\n",
       "      <td>...</td>\n",
       "      <td>...</td>\n",
       "    </tr>\n",
       "    <tr>\n",
       "      <th>994</th>\n",
       "      <td>54</td>\n",
       "      <td>28415</td>\n",
       "      <td>0.937954</td>\n",
       "    </tr>\n",
       "    <tr>\n",
       "      <th>995</th>\n",
       "      <td>54</td>\n",
       "      <td>42168</td>\n",
       "      <td>0.893162</td>\n",
       "    </tr>\n",
       "    <tr>\n",
       "      <th>996</th>\n",
       "      <td>83</td>\n",
       "      <td>48959</td>\n",
       "      <td>0.935450</td>\n",
       "    </tr>\n",
       "    <tr>\n",
       "      <th>997</th>\n",
       "      <td>83</td>\n",
       "      <td>48961</td>\n",
       "      <td>0.934343</td>\n",
       "    </tr>\n",
       "    <tr>\n",
       "      <th>998</th>\n",
       "      <td>83</td>\n",
       "      <td>104702</td>\n",
       "      <td>0.925411</td>\n",
       "    </tr>\n",
       "  </tbody>\n",
       "</table>\n",
       "<p>999 rows × 3 columns</p>\n",
       "</div>"
      ],
      "text/plain": [
       "     customer_id  article_id     score\n",
       "0             86       89351  0.939401\n",
       "1             86      100352  0.931560\n",
       "2             86       86274  0.924446\n",
       "3             80       92916  0.988128\n",
       "4             80       78075  0.985729\n",
       "..           ...         ...       ...\n",
       "994           54       28415  0.937954\n",
       "995           54       42168  0.893162\n",
       "996           83       48959  0.935450\n",
       "997           83       48961  0.934343\n",
       "998           83      104702  0.925411\n",
       "\n",
       "[999 rows x 3 columns]"
      ]
     },
     "execution_count": 13,
     "metadata": {},
     "output_type": "execute_result"
    }
   ],
   "source": [
    "df_predict"
   ]
  },
  {
   "cell_type": "code",
   "execution_count": null,
   "metadata": {},
   "outputs": [],
   "source": []
  }
 ],
 "metadata": {
  "kernelspec": {
   "display_name": "kaggle_hnm_recsys",
   "language": "python",
   "name": "kaggle_hnm_recsys"
  },
  "language_info": {
   "codemirror_mode": {
    "name": "ipython",
    "version": 3
   },
   "file_extension": ".py",
   "mimetype": "text/x-python",
   "name": "python",
   "nbconvert_exporter": "python",
   "pygments_lexer": "ipython3",
   "version": "3.8.13"
  }
 },
 "nbformat": 4,
 "nbformat_minor": 4
}